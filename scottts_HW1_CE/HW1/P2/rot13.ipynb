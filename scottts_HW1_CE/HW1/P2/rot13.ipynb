{
 "cells": [
  {
   "cell_type": "code",
   "id": "initial_id",
   "metadata": {
    "collapsed": true,
    "ExecuteTime": {
     "end_time": "2025-02-12T19:30:05.844729Z",
     "start_time": "2025-02-12T19:30:05.838643Z"
    }
   },
   "source": [
    "def rot13(text):\n",
    "    text = text.lower()\n",
    "    cyphertext = \"\"\n",
    "\n",
    "    for char in text:\n",
    "        if 'a' <= char <= 'z':\n",
    "            cyphertext += chr(((ord(char) - ord('a') + 13) % 26) + ord('a'))\n",
    "        else:\n",
    "            cyphertext += char\n",
    "\n",
    "    print(cyphertext)\n",
    "\n",
    "rot13(\"hello\")\n",
    "rot13(\"world\")\n",
    "rot13(\"potsdamny\")"
   ],
   "outputs": [
    {
     "name": "stdout",
     "output_type": "stream",
     "text": [
      "uryyb\n",
      "jbeyq\n",
      "cbgfqnzal\n"
     ]
    }
   ],
   "execution_count": 14
  }
 ],
 "metadata": {
  "kernelspec": {
   "display_name": "Python 3",
   "language": "python",
   "name": "python3"
  },
  "language_info": {
   "codemirror_mode": {
    "name": "ipython",
    "version": 2
   },
   "file_extension": ".py",
   "mimetype": "text/x-python",
   "name": "python",
   "nbconvert_exporter": "python",
   "pygments_lexer": "ipython2",
   "version": "2.7.6"
  }
 },
 "nbformat": 4,
 "nbformat_minor": 5
}
